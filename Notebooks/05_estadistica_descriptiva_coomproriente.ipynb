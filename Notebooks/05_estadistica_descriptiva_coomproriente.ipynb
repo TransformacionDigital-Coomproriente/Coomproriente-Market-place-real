{
 "cells": [
  {
   "cell_type": "markdown",
   "metadata": {},
   "source": [
    "# Análisis Estadístico Descriptivo - Precios Coomproriente\n",
    "\n",
    "Este notebook realiza un análisis estadístico descriptivo de los precios de productos de Coomproriente."
   ]
  },
  {
   "cell_type": "markdown",
   "metadata": {},
   "source": [
    "## 1. Importación de bibliotecas"
   ]
  },
  {
   "cell_type": "code",
   "execution_count": null,
   "metadata": {},
   "outputs": [],
   "source": [
    "import pandas as pd\n",
    "import numpy as np\n",
    "import matplotlib.pyplot as plt\n",
    "import seaborn as sns\n",
    "\n",
    "# Configuración de estilo para los gráficos\n",
    "plt.style.use('seaborn')\n",
    "sns.set_palette('viridis')\n",
    "%matplotlib inline"
   ]
  },
  {
   "cell_type": "markdown",
   "metadata": {},
   "source": [
    "## 2. Carga de datos"
   ]
  },
  {
   "cell_type": "code",
   "execution_count": null,
   "metadata": {},
   "outputs": [],
   "source": [
    "# Ruta del archivo\n",
    "ruta_archivo = '../Data/Precios_Coomproriente_limpio.xlsx'\n",
    "\n",
    "# Cargar los datos\n",
    "try:\n",
    "    df = pd.read_excel(ruta_archivo)\n",
    "    print(\"Datos cargados exitosamente.\")\n",
    "    print(\"\\nPrimeras filas del dataset:\")\n",
    "    display(df.head())\n",
    "except Exception as e:\n",
    "    print(f\"Error al cargar el archivo: {e}\")"
   ]
  },
  {
   "cell_type": "markdown",
   "metadata": {},
   "source": [
    "## 3. Análisis Exploratorio Inicial"
   ]
  },
  {
   "cell_type": "code",
   "execution_count": null,
   "metadata": {},
   "outputs": [],
   "source": [
    "# Información general del dataset\n",
    "print(\"\\nInformación del dataset:\")\n",
    "display(df.info())\n",
    "\n",
    "# Estadísticas descriptivas básicas\n",
    "print(\"\\nEstadísticas descriptivas generales:\")\n",
    "display(df.describe(include='all').T)\n",
    "\n",
    "# Valores nulos por columna\n",
    "print(\"\\nValores nulos por columna:\")\n",
    "display(df.isnull().sum())"
   ]
  },
  {
   "cell_type": "markdown",
   "metadata": {},
   "source": [
    "## 4. Análisis de Variables Numéricas"
   ]
  },
  {
   "cell_type": "code",
   "execution_count": null,
   "metadata": {},
   "outputs": [],
   "source": [
    "# Seleccionar solo las columnas numéricas\n",
    "columnas_numericas = df.select_dtypes(include=['int64', 'float64']).columns\n",
    "\n",
    "# Función para crear gráficos de distribución\n",
    "def plot_distribution(column, data):\n",
    "    fig, axes = plt.subplots(1, 2, figsize=(15, 5))\n",
    "    \n",
    "    # Histograma\n",
    "    sns.histplot(data[column], kde=True, ax=axes[0])\n",
    "    axes[0].set_title(f'Distribución de {column}')\n",
    "    \n",
    "    # Boxplot\n",
    "    sns.boxplot(y=data[column], ax=axes[1])\n",
    "    axes[1].set_title(f'Boxplot de {column}')\n",
    "    \n",
    "    plt.tight_layout()\n",
    "    plt.show()\n",
    "    \n",
    "    # Estadísticas descriptivas\n",
    "    stats = data[column].describe()\n",
    "    print(f\"\\nEstadísticas para {column}:\")\n",
    "    print(f\"Media: {stats['mean']:.2f}\")\n",
    "    print(f\"Mediana: {stats['50%']:.2f}\")\n",
    "    print(f\"Desviación estándar: {stats['std']:.2f}\")\n",
    "    print(f\"Mínimo: {stats['min']:.2f}\")\n",
    "    print(f\"Máximo: {stats['max']:.2f}\")\n",
    "    print(f\"Rango intercuartílico (IQR): {stats['75%'] - stats['25%']:.2f}\")\n",
    "    print(f\"Coeficiente de variación: {(stats['std'] / stats['mean']) * 100:.2f}%\")\n",
    "    print(f\"Asimetría: {data[column].skew():.2f}\")\n",
    "    print(f\"Curtosis: {data[column].kurtosis():.2f}\")\n",
    "    \n",
    "# Generar gráficos para cada variable numérica\n",
    "for col in columnas_numericas:\n",
    "    print(f\"\\n{'='*50}\nAnálisis de la variable: {col}\n{'='*50}\n\")\n",
    "    plot_distribution(col, df)"
   ]
  },
  {
   "cell_type": "markdown",
   "metadata": {},
   "source": [
    "## 5. Análisis de Variables Categóricas"
   ]
  },
  {
   "cell_type": "code",
   "execution_count": null,
   "metadata": {},
   "outputs": [],
   "source": [
    "# Seleccionar solo las columnas categóricas\n",
    "columnas_categoricas = df.select_dtypes(include=['object']).columns\n",
    "\n",
    "# Función para crear gráficos de variables categóricas\n",
    "def plot_categorical(column, data):\n",
    "    # Contar valores únicos\n",
    "    conteo = data[column].value_counts()\n",
    "    \n",
    "    # Configurar la figura\n",
    "    plt.figure(figsize=(12, 6))\n",
    "    \n",
    "    # Gráfico de barras\n",
    "    if len(conteo) > 10:\n",
    "        # Si hay muchas categorías, mostramos solo las 10 más frecuentes\n",
    "        top_10 = conteo.head(10)\n",
    "        sns.barplot(x=top_10.index, y=top_10.values)\n",
    "        plt.xticks(rotation=45, ha='right')\n",
    "    else:\n",
    "        sns.countplot(y=column, data=data, order=conteo.index)\n",
    "    \n",
    "    plt.title(f'Distribución de {column}')\n",
    "    plt.tight_layout()\n",
    "    plt.show()\n",
    "    \n",
    "    # Estadísticas descriptivas\n",
    "    print(f\"\\nEstadísticas para {column}:\")\n",
    "    print(f\"Número de categorías únicas: {len(conteo)}\")\n",
    "    print(f\"Categorías más frecuentes:\")\n",
    "    display(conteo.head())\n",
    "    print(f\"\\nPorcentaje de valores faltantes: {data[column].isnull().mean()*100:.2f}%\")\n",
    "    \n",
    "# Generar gráficos para cada variable categórica\n",
    "for col in columnas_categoricas:\n",
    "    print(f\"\\n{'='*50}\nAnálisis de la variable: {col}\n{'='*50}\n\")\n",
    "    plot_categorical(col, df)"
   ]
  },
  {
   "cell_type": "markdown",
   "metadata": {},
   "source": [
    "## 6. Análisis de Relaciones entre Variables"
   ]
  },
  {
   "cell_type": "code",
   "execution_count": null,
   "metadata": {},
   "outputs": [],
   "source": [
    "# Matriz de correlación para variables numéricas\n",
    "if len(columnas_numericas) > 1:\n",
    "    plt.figure(figsize=(10, 8))\n",
    "    sns.heatmap(df[columnas_numericas].corr(), annot=True, cmap='coolwarm', fmt=\".2f\", linewidths=0.5)\n",
    "    plt.title('Matriz de Correlación')\n",
    "    plt.tight_layout()\n",
    "    plt.show()"
   ]
  },
  {
   "cell_type": "code",
   "execution_count": null,
   "metadata": {},
   "outputs": [],
   "source": [
    "# Gráficos de dispersión para pares de variables numéricas\n",
    "if len(columnas_numericas) > 1:\n",
    "    sns.pairplot(df[columnas_numericas])\n",
    "    plt.suptitle('Gráficos de Dispersión por Pares', y=1.02)\n",
    "    plt.show()"
   ]
  },
  {
   "cell_type": "markdown",
   "metadata": {},
   "source": [
    "## 7. Análisis de Valores Atípicos"
   ]
  },
  {
   "cell_type": "code",
   "execution_count": null,
   "metadata": {},
   "outputs": [],
   "source": [
    "# Función para identificar valores atípicos\n",
    "def detect_outliers(column, data):\n",
    "    Q1 = data[column].quantile(0.25)\n",
    "    Q3 = data[column].quantile(0.75)\n",
    "    IQR = Q3 - Q1\n",
    "    \n",
    "    lower_bound = Q1 - 1.5 * IQR\n",
    "    upper_bound = Q3 + 1.5 * IQR\n",
    "    \n",
    "    outliers = data[(data[column] < lower_bound) | (data[column] > upper_bound)]\n",
    "    return outliers\n",
    "\n",
    "# Identificar y mostrar valores atípicos para cada variable numérica\n",
    "for col in columnas_numericas:\n",
    "    outliers = detect_outliers(col, df)\n",
    "    if not outliers.empty:\n",
    "        print(f\"\\nValores atípicos en {col} (Total: {len(outliers)}):\")\n",
    "        display(outliers[[col]].sort_values(by=col, ascending=False))"
   ]
  },
  {
   "cell_type": "markdown",
   "metadata": {},
   "source": [
    "## 8. Conclusiones y Recomendaciones"
   ]
  },
  {
   "cell_type": "markdown",
   "metadata": {},
   "source": [
    "### Hallazgos Principales\n",
    "1. **Distribución de Precios**: [Incluir hallazgos sobre la distribución de precios]\n",
    "2. **Categorías Principales**: [Mencionar las categorías más relevantes]\n",
    "3. **Relaciones entre Variables**: [Describir relaciones significativas encontradas]\n",
    "4. **Valores Atípicos**: [Comentar sobre la presencia y posible impacto de valores atípicos]\n",
    "\n",
    "### Recomendaciones\n",
    "1. [Recomendación 1]\n",
    "2. [Recomendación 2]\n",
    "3. [Recomendación 3]"
   ]
  }
 ],
 "metadata": {
  "kernelspec": {
   "display_name": "Python 3 (ipykernel)",
   "language": "python",
   "name": "python3"
  },
  "language_info": {
   "codemirror_mode": {
    "name": "ipython",
    "version": 3
   },
   "file_extension": ".py",
   "mimetype": "text/x-python",
   "name": "python",
   "nbconvert_exporter": "python",
   "pygments_lexer": "ipython3",
   "version": "3.10.11"
  }
 },
 "nbformat": 4,
 "nbformat_minor": 4
}
