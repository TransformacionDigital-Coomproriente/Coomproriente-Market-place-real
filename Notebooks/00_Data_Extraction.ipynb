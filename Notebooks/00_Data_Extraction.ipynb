{
 "cells": [
  {
   "cell_type": "markdown",
   "id": "b02ccac6",
   "metadata": {},
   "source": [
    "# 00.Data Extraction"
   ]
  },
  {
   "cell_type": "code",
   "execution_count": 2,
   "id": "41431ada",
   "metadata": {},
   "outputs": [
    {
     "name": "stdout",
     "output_type": "stream",
     "text": [
      "Collecting openpyxl\n",
      "  Downloading openpyxl-3.1.5-py2.py3-none-any.whl (250 kB)\n",
      "Collecting et-xmlfile\n",
      "  Downloading et_xmlfile-2.0.0-py3-none-any.whl (18 kB)\n",
      "Installing collected packages: et-xmlfile, openpyxl\n",
      "Successfully installed et-xmlfile-2.0.0 openpyxl-3.1.5\n"
     ]
    },
    {
     "name": "stderr",
     "output_type": "stream",
     "text": [
      "WARNING: You are using pip version 21.2.3; however, version 25.1.1 is available.\n",
      "You should consider upgrading via the 'C:\\Users\\dairo\\AppData\\Local\\Programs\\Python\\Python310\\python.exe -m pip install --upgrade pip' command.\n"
     ]
    }
   ],
   "source": [
    "!pip install openpyxl"
   ]
  },
  {
   "cell_type": "code",
   "execution_count": 3,
   "id": "186a9389",
   "metadata": {},
   "outputs": [
    {
     "data": {
      "text/html": [
       "<div>\n",
       "<style scoped>\n",
       "    .dataframe tbody tr th:only-of-type {\n",
       "        vertical-align: middle;\n",
       "    }\n",
       "\n",
       "    .dataframe tbody tr th {\n",
       "        vertical-align: top;\n",
       "    }\n",
       "\n",
       "    .dataframe thead th {\n",
       "        text-align: right;\n",
       "    }\n",
       "</style>\n",
       "<table border=\"1\" class=\"dataframe\">\n",
       "  <thead>\n",
       "    <tr style=\"text-align: right;\">\n",
       "      <th></th>\n",
       "      <th>Producto</th>\n",
       "      <th>Precio</th>\n",
       "      <th>Cantidad</th>\n",
       "      <th>Fecha</th>\n",
       "      <th>Origen</th>\n",
       "    </tr>\n",
       "  </thead>\n",
       "  <tbody>\n",
       "    <tr>\n",
       "      <th>0</th>\n",
       "      <td>Aguacate Papelillo</td>\n",
       "      <td>$ 10.000</td>\n",
       "      <td>Kilogramo - 50 Kg</td>\n",
       "      <td>2025-04-03</td>\n",
       "      <td>Coomproriente</td>\n",
       "    </tr>\n",
       "    <tr>\n",
       "      <th>1</th>\n",
       "      <td>Aguacate Papelillo</td>\n",
       "      <td>$ 10.000</td>\n",
       "      <td>Kilogramo - 50 Kg</td>\n",
       "      <td>2025-04-07</td>\n",
       "      <td>Coomproriente</td>\n",
       "    </tr>\n",
       "    <tr>\n",
       "      <th>2</th>\n",
       "      <td>Aguacate Papelillo</td>\n",
       "      <td>$ 10.000</td>\n",
       "      <td>Kilogramo - 50 Kg</td>\n",
       "      <td>2025-04-09</td>\n",
       "      <td>Coomproriente</td>\n",
       "    </tr>\n",
       "    <tr>\n",
       "      <th>3</th>\n",
       "      <td>Aguacate Papelillo</td>\n",
       "      <td>$ 11.000</td>\n",
       "      <td>Kilogramo - 50 Kg</td>\n",
       "      <td>2025-04-10</td>\n",
       "      <td>Coomproriente</td>\n",
       "    </tr>\n",
       "    <tr>\n",
       "      <th>4</th>\n",
       "      <td>Aguacate Papelillo</td>\n",
       "      <td>$ 10.000</td>\n",
       "      <td>Kilogramo - 50 Kg</td>\n",
       "      <td>2025-04-14</td>\n",
       "      <td>Coomproriente</td>\n",
       "    </tr>\n",
       "    <tr>\n",
       "      <th>5</th>\n",
       "      <td>Aguacate Papelillo</td>\n",
       "      <td>$ 10.000</td>\n",
       "      <td>Kilogramo - 50 Kg</td>\n",
       "      <td>2025-04-14</td>\n",
       "      <td>Coomproriente</td>\n",
       "    </tr>\n",
       "    <tr>\n",
       "      <th>6</th>\n",
       "      <td>Aguacate Papelillo</td>\n",
       "      <td>$ 9.000</td>\n",
       "      <td>Kilogramo - 50 Kg</td>\n",
       "      <td>2025-04-21</td>\n",
       "      <td>Coomproriente</td>\n",
       "    </tr>\n",
       "    <tr>\n",
       "      <th>7</th>\n",
       "      <td>Aguacate Papelillo</td>\n",
       "      <td>$ 10.000</td>\n",
       "      <td>Kilogramo - 50 Kg</td>\n",
       "      <td>2025-04-23</td>\n",
       "      <td>Coomproriente</td>\n",
       "    </tr>\n",
       "    <tr>\n",
       "      <th>8</th>\n",
       "      <td>Aguacate Papelillo</td>\n",
       "      <td>$ 10.000</td>\n",
       "      <td>Kilogramo - 50 Kg</td>\n",
       "      <td>2025-04-24</td>\n",
       "      <td>Coomproriente</td>\n",
       "    </tr>\n",
       "    <tr>\n",
       "      <th>9</th>\n",
       "      <td>Aguacate Papelillo</td>\n",
       "      <td>$ 10.000</td>\n",
       "      <td>Kilogramo - 50 Kg</td>\n",
       "      <td>2025-04-28</td>\n",
       "      <td>Coomproriente</td>\n",
       "    </tr>\n",
       "  </tbody>\n",
       "</table>\n",
       "</div>"
      ],
      "text/plain": [
       "             Producto    Precio           Cantidad      Fecha         Origen\n",
       "0  Aguacate Papelillo  $ 10.000  Kilogramo - 50 Kg 2025-04-03  Coomproriente\n",
       "1  Aguacate Papelillo  $ 10.000  Kilogramo - 50 Kg 2025-04-07  Coomproriente\n",
       "2  Aguacate Papelillo  $ 10.000  Kilogramo - 50 Kg 2025-04-09  Coomproriente\n",
       "3  Aguacate Papelillo  $ 11.000  Kilogramo - 50 Kg 2025-04-10  Coomproriente\n",
       "4  Aguacate Papelillo  $ 10.000  Kilogramo - 50 Kg 2025-04-14  Coomproriente\n",
       "5  Aguacate Papelillo  $ 10.000  Kilogramo - 50 Kg 2025-04-14  Coomproriente\n",
       "6  Aguacate Papelillo   $ 9.000  Kilogramo - 50 Kg 2025-04-21  Coomproriente\n",
       "7  Aguacate Papelillo  $ 10.000  Kilogramo - 50 Kg 2025-04-23  Coomproriente\n",
       "8  Aguacate Papelillo  $ 10.000  Kilogramo - 50 Kg 2025-04-24  Coomproriente\n",
       "9  Aguacate Papelillo  $ 10.000  Kilogramo - 50 Kg 2025-04-28  Coomproriente"
      ]
     },
     "execution_count": 3,
     "metadata": {},
     "output_type": "execute_result"
    }
   ],
   "source": [
    "import pandas as pd\n",
    "import numpy as np\n",
    "df = pd.read_excel('../Data/Precios_Coomproriente_05_06_25.xlsx')\n",
    "Productos=df['Producto'].unique()\n",
    "df.head(10)\n"
   ]
  },
  {
   "cell_type": "code",
   "execution_count": 6,
   "id": "819fe56b",
   "metadata": {},
   "outputs": [
    {
     "name": "stdout",
     "output_type": "stream",
     "text": [
      "Columnas del DataFrame:['Aguacate Papelillo' 'Ajo' 'Arracacha Amarilla' 'Arveja Verde En Vaina'\n",
      " 'Banano Urabá' 'Cebolla Cabezona Blanca' 'Cebolla Cabezona Roja'\n",
      " 'Cebolla Larga' 'Cilantro' 'Durazno Nacional' 'Espinaca' 'Feijoba'\n",
      " 'Fresa' 'Frijol Verde' 'Guanabana' 'Guayaba' 'Habichuela' 'Huevos AA'\n",
      " 'Huevos AAA' 'Lechuga Crespa Verde' 'Limon Mandarino' 'Limon Tahití'\n",
      " 'Lulo' 'Mandarina' 'Mango Azucar' 'Mango Común' 'Mango Tommy'\n",
      " 'Manzana Gloria' 'Manzana Nacional' 'Manzana Roja Importada'\n",
      " 'Manzana Verde Importada' 'Maracuyá' 'Mazorca' 'Melon' 'Mora De Castilla'\n",
      " 'Naranja Comun' 'Naranja Tanjelo' 'Naranja Valencia' 'Panela'\n",
      " 'Papa Criolla Limpia' 'Papa úNica' 'Papaya Maradol' 'Pepino Cohombro'\n",
      " 'Pepino De Guiso' 'Pera Nacional' 'Perejil' 'Pimentón' 'Piña Gold'\n",
      " 'Plátano Hartón Verde Llanero Grueso'\n",
      " 'Plátano Hartón Verde Llanero Parejo' 'Remolacha' 'Repollo Verde'\n",
      " 'Sandia' 'Sandia Baby' 'Tomate Cherri' 'Tomate Chonto'\n",
      " 'Tomate De Arbol Amarillo' 'Tomate De Rio' 'Uchuva' 'Uva Isabelita'\n",
      " 'Yuca Llanera' 'Zanahoria']\n"
     ]
    }
   ],
   "source": [
    "print(f\"Columnas del DataFrame:{Productos}\")"
   ]
  },
  {
   "cell_type": "markdown",
   "id": "29837d2d",
   "metadata": {},
   "source": [
    "## Extraer datos agronet"
   ]
  },
  {
   "cell_type": "code",
   "execution_count": 1,
   "id": "9eabdb00",
   "metadata": {},
   "outputs": [
    {
     "name": "stdout",
     "output_type": "stream",
     "text": [
      "Primeras filas del DataFrame concatenado:\n",
      "      Mercado             Producto                       Fecha  Precio $/KG\n",
      "0  Corabastos  Aguacate papelillo    Viernes, Julio 15 de 2005       2200.0\n",
      "1  Corabastos  Aguacate papelillo    Viernes, Julio 22 de 2005       2340.0\n",
      "2  Corabastos  Aguacate papelillo    Viernes, Julio 29 de 2005       2355.0\n",
      "3  Corabastos  Aguacate papelillo    Viernes, Agosto 5 de 2005       2410.0\n",
      "4  Corabastos  Aguacate papelillo   Viernes, Agosto 12 de 2005       2410.0\n",
      "<class 'pandas.core.frame.DataFrame'>\n",
      "RangeIndex: 163931 entries, 0 to 163930\n",
      "Data columns (total 4 columns):\n",
      " #   Column       Non-Null Count   Dtype  \n",
      "---  ------       --------------   -----  \n",
      " 0   Mercado      163931 non-null  object \n",
      " 1   Producto     163931 non-null  object \n",
      " 2   Fecha        163931 non-null  object \n",
      " 3   Precio $/KG  163931 non-null  float64\n",
      "dtypes: float64(1), object(3)\n",
      "memory usage: 5.0+ MB\n"
     ]
    }
   ],
   "source": [
    "import pandas as pd\n",
    "import glob\n",
    "import os\n",
    "\n",
    "# Ruta a la carpeta que contiene los archivos .xlsx\n",
    "ruta = \"../Data/Agronet\"  \n",
    "\n",
    "# Obtener la lista de todos los archivos .xlsx en la carpeta\n",
    "archivos = glob.glob(os.path.join(ruta, \"*.xlsx\"))\n",
    "\n",
    "# Verifica que haya archivos encontrados\n",
    "if not archivos:\n",
    "    print(\"No se encontraron archivos .xlsx en la ruta especificada.\")\n",
    "else:\n",
    "    # Leer y concatenar todos los archivos en un solo DataFrame\n",
    "    df_concatenado = pd.concat([pd.read_excel(archivo) for archivo in archivos], ignore_index=True)\n",
    "\n",
    "    # Mostrar las primeras filas del DataFrame concatenado\n",
    "    print(\"Primeras filas del DataFrame concatenado:\")\n",
    "    print(df_concatenado.head())\n",
    "\n",
    "    # (Opcional) Guardar el DataFrame concatenado en un nuevo archivo Excel\n",
    "    # df_concatenado.to_excel(\"df_concatenado.xlsx\", index=False)\n",
    "    df_concatenado.info()\n"
   ]
  },
  {
   "cell_type": "code",
   "execution_count": 3,
   "id": "00d47cf6",
   "metadata": {},
   "outputs": [
    {
     "data": {
      "text/plain": [
       "array(['Corabastos', 'Tunja', 'Sogamoso (Boyacá)', 'Duitama (Boyacá)',\n",
       "       'Bogotá, D.C., Corabastos', 'Tunja (Boyacá)', 'Duitama'],\n",
       "      dtype=object)"
      ]
     },
     "execution_count": 3,
     "metadata": {},
     "output_type": "execute_result"
    }
   ],
   "source": [
    "df_concatenado['Mercado'].unique()"
   ]
  },
  {
   "cell_type": "code",
   "execution_count": 9,
   "id": "4c7ac8a2",
   "metadata": {},
   "outputs": [
    {
     "data": {
      "text/plain": [
       "array(['Aguacate papelillo ', 'Ajo     (Semanal | Mensual)',\n",
       "       'Arracacha amarilla ', 'Arveja verde en vaina ',\n",
       "       'Banano Urabá    (Semanal | Mensual)', 'Cebolla cabezona blanca ',\n",
       "       'Cebolla cabezona roja    (Semanal | Mensual)',\n",
       "       'Cebolla puerro    (Semanal | Mensual)',\n",
       "       'Cilantro     (Semanal | Mensual)',\n",
       "       'Durazno nacional    (Semanal | Mensual)',\n",
       "       'Espinaca    (Semanal | Mensual)', 'Feijoa    (Semanal | Mensual)',\n",
       "       'Fresa    (Semanal | Mensual)', 'Guanábana    (Semanal | Mensual)',\n",
       "       'Guayaba común    (Semanal | Mensual)', 'Habichuela ',\n",
       "       'Lechuga crespa verde    (Semanal | Mensual)', 'Limón tahití ',\n",
       "       'Lulo ', 'Mandarina común ',\n",
       "       'Mango de azúcar    (Semanal | Mensual)',\n",
       "       'Mango común    (Semanal | Mensual)', 'Mango tommy ',\n",
       "       'Manzana nacional    (Semanal | Mensual)',\n",
       "       'Manzana roja importada    (Semanal | Mensual)',\n",
       "       'Manzana verde importada    (Semanal | Mensual)', 'Maracuyá\\xa0 ',\n",
       "       'Melón cantalup    (Semanal | Mensual)', 'Mora de castilla ',\n",
       "       'Naranja común     (Semanal | Mensual)', 'Naranja valencia ',\n",
       "       'Papa criolla limpia ', 'Papaya maradol ', 'Pepino cohombro ',\n",
       "       'Perejil    (Semanal | Mensual)', 'Pimentón ',\n",
       "       'Piña gold    (Semanal | Mensual)', 'Remolacha ',\n",
       "       'Repollo verde regional    (Semanal | Mensual)', 'Tomate chonto ',\n",
       "       'Uchuva con cáscara    (Semanal | Mensual)',\n",
       "       'Uva isabela    (Semanal | Mensual)',\n",
       "       'Yuca llanera    (Semanal | Mensual)', 'Zanahoria '], dtype=object)"
      ]
     },
     "execution_count": 9,
     "metadata": {},
     "output_type": "execute_result"
    }
   ],
   "source": [
    "df_concatenado['Producto'].unique()"
   ]
  },
  {
   "cell_type": "code",
   "execution_count": 10,
   "id": "2fed6847",
   "metadata": {},
   "outputs": [],
   "source": [
    "\n",
    "df_concatenado.to_excel(\"../Data/datos_agronet.xlsx\", index=False)"
   ]
  },
  {
   "cell_type": "code",
   "execution_count": null,
   "id": "06bf472b",
   "metadata": {},
   "outputs": [],
   "source": []
  }
 ],
 "metadata": {
  "kernelspec": {
   "display_name": "Python 3",
   "language": "python",
   "name": "python3"
  },
  "language_info": {
   "codemirror_mode": {
    "name": "ipython",
    "version": 3
   },
   "file_extension": ".py",
   "mimetype": "text/x-python",
   "name": "python",
   "nbconvert_exporter": "python",
   "pygments_lexer": "ipython3",
   "version": "3.11.9"
  }
 },
 "nbformat": 4,
 "nbformat_minor": 5
}
