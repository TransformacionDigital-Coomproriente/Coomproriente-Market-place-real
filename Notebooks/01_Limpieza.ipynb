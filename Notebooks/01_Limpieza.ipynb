{
 "cells": [
  {
   "cell_type": "code",
   "execution_count": 1,
   "id": "a4167672",
   "metadata": {},
   "outputs": [],
   "source": [
    "import pandas as pd\n",
    "\n",
    "# Cargar el archivo Excel \n",
    "df = pd.read_excel(\"../Data/datos_agronet.xlsx\")\n",
    "\n",
    "# Mapeo de nombres de mercado a categorías válidas\n",
    "mercados_validos = {\n",
    "    'Bogotá, D.C., Corabastos': 'Bogotá',\n",
    "    'Corabastos': 'Bogotá',\n",
    "    'Tunja': 'Tunja',\n",
    "    'Tunja (Boyacá)': 'Tunja',\n",
    "    'Duitama': 'Duitama',\n",
    "    'Duitama (Boyacá)': 'Duitama',\n",
    "    'Sogamoso (Boyacá)': 'Sogamoso'\n",
    "}\n",
    "\n",
    "# Aplicar mapeo\n",
    "df['Mercado'] = df['Mercado'].map(mercados_validos)\n",
    "\n"
   ]
  },
  {
   "cell_type": "code",
   "execution_count": 2,
   "id": "5d3d84d3",
   "metadata": {},
   "outputs": [
    {
     "data": {
      "text/plain": [
       "array(['Bogotá', 'Tunja', 'Sogamoso', 'Duitama'], dtype=object)"
      ]
     },
     "execution_count": 2,
     "metadata": {},
     "output_type": "execute_result"
    }
   ],
   "source": [
    "df.Mercado.unique()"
   ]
  },
  {
   "cell_type": "code",
   "execution_count": 3,
   "id": "b96c4af1",
   "metadata": {},
   "outputs": [
    {
     "name": "stdout",
     "output_type": "stream",
     "text": [
      "        Mercado             Producto      Fecha  Precio $/KG\n",
      "0        Bogotá  Aguacate papelillo  2005-07-15      2200.00\n",
      "1        Bogotá  Aguacate papelillo  2005-07-22      2340.00\n",
      "2        Bogotá  Aguacate papelillo  2005-07-29      2355.00\n",
      "3        Bogotá  Aguacate papelillo  2005-08-05      2410.00\n",
      "4        Bogotá  Aguacate papelillo  2005-08-12      2410.00\n",
      "...         ...                  ...        ...          ...\n",
      "65279     Tunja           Zanahoria  2011-12-16       616.67\n",
      "65280   Duitama           Zanahoria  2011-12-23       850.00\n",
      "65281     Tunja           Zanahoria  2011-12-23       745.00\n",
      "65282    Bogotá           Zanahoria  2011-12-23       677.78\n",
      "65283  Sogamoso           Zanahoria  2011-12-23       680.00\n",
      "\n",
      "[65284 rows x 4 columns]\n"
     ]
    }
   ],
   "source": [
    "# Eliminar filas con mercados no deseados\n",
    "df = df.dropna(subset=['Mercado'])\n",
    "\n",
    "# Normalizar y convertir fechas\n",
    "import locale\n",
    "locale.setlocale(locale.LC_TIME, 'es_ES.UTF-8') \n",
    "df['Fecha'] = df['Fecha'].str.replace('Viernes, ', '', regex=False)\n",
    "df['Fecha'] = pd.to_datetime(df['Fecha'], format='%B %d de %Y', errors='coerce')\n",
    "\n",
    "# Eliminar filas con fechas no convertidas correctamente\n",
    "df = df.dropna(subset=['Fecha'])\n",
    "\n",
    "# Eliminar duplicados\n",
    "df = df.drop_duplicates()\n",
    "\n",
    "# Verificar y convertir columna de precio\n",
    "# Quitar caracteres no numéricos y convertir a float (por si hay errores de entrada)\n",
    "df['Precio $/KG'] = pd.to_numeric(df['Precio $/KG'], errors='coerce')\n",
    "\n",
    "# Eliminar filas con precios nulos o inconsistentes\n",
    "df = df.dropna(subset=['Precio $/KG'])\n",
    "\n",
    "# Resetear índice y mostrar dataset limpio\n",
    "df = df.reset_index(drop=True)\n",
    "print(df)\n",
    "\n",
    "# Guardar el dataframe limpio (opcional)\n",
    "df.to_excel(\"../Data/datos_agronet_limpio.xlsx\", index=False)  \n"
   ]
  },
  {
   "cell_type": "markdown",
   "id": "d36e4f29",
   "metadata": {},
   "source": [
    "## Limpieza de datos para el dataset Precios Coomproriente"
   ]
  },
  {
   "cell_type": "code",
   "execution_count": 4,
   "id": "7437857a",
   "metadata": {},
   "outputs": [
    {
     "data": {
      "text/html": [
       "<div>\n",
       "<style scoped>\n",
       "    .dataframe tbody tr th:only-of-type {\n",
       "        vertical-align: middle;\n",
       "    }\n",
       "\n",
       "    .dataframe tbody tr th {\n",
       "        vertical-align: top;\n",
       "    }\n",
       "\n",
       "    .dataframe thead th {\n",
       "        text-align: right;\n",
       "    }\n",
       "</style>\n",
       "<table border=\"1\" class=\"dataframe\">\n",
       "  <thead>\n",
       "    <tr style=\"text-align: right;\">\n",
       "      <th></th>\n",
       "      <th>Precio</th>\n",
       "      <th>Fecha</th>\n",
       "    </tr>\n",
       "  </thead>\n",
       "  <tbody>\n",
       "    <tr>\n",
       "      <th>count</th>\n",
       "      <td>1422.000000</td>\n",
       "      <td>1440</td>\n",
       "    </tr>\n",
       "    <tr>\n",
       "      <th>mean</th>\n",
       "      <td>64920.323488</td>\n",
       "      <td>2025-05-01 23:54:00</td>\n",
       "    </tr>\n",
       "    <tr>\n",
       "      <th>min</th>\n",
       "      <td>1400.000000</td>\n",
       "      <td>2025-03-27 00:00:00</td>\n",
       "    </tr>\n",
       "    <tr>\n",
       "      <th>25%</th>\n",
       "      <td>18000.000000</td>\n",
       "      <td>2025-04-14 00:00:00</td>\n",
       "    </tr>\n",
       "    <tr>\n",
       "      <th>50%</th>\n",
       "      <td>50000.000000</td>\n",
       "      <td>2025-04-30 00:00:00</td>\n",
       "    </tr>\n",
       "    <tr>\n",
       "      <th>75%</th>\n",
       "      <td>90000.000000</td>\n",
       "      <td>2025-05-15 00:00:00</td>\n",
       "    </tr>\n",
       "    <tr>\n",
       "      <th>max</th>\n",
       "      <td>402000.000000</td>\n",
       "      <td>2025-06-05 00:00:00</td>\n",
       "    </tr>\n",
       "    <tr>\n",
       "      <th>std</th>\n",
       "      <td>59981.484022</td>\n",
       "      <td>NaN</td>\n",
       "    </tr>\n",
       "  </tbody>\n",
       "</table>\n",
       "</div>"
      ],
      "text/plain": [
       "              Precio                Fecha\n",
       "count    1422.000000                 1440\n",
       "mean    64920.323488  2025-05-01 23:54:00\n",
       "min      1400.000000  2025-03-27 00:00:00\n",
       "25%     18000.000000  2025-04-14 00:00:00\n",
       "50%     50000.000000  2025-04-30 00:00:00\n",
       "75%     90000.000000  2025-05-15 00:00:00\n",
       "max    402000.000000  2025-06-05 00:00:00\n",
       "std     59981.484022                  NaN"
      ]
     },
     "execution_count": 4,
     "metadata": {},
     "output_type": "execute_result"
    }
   ],
   "source": [
    "import pandas as pd\n",
    "import re\n",
    "\n",
    "# Cargar el archivo Excel\n",
    "df_coomproriente = pd.read_excel(\"../data/Precios_Coomproriente_05_06_25.xlsx\")\n",
    "\n",
    "# Normalizar nombres de columnas\n",
    "df_coomproriente.columns = [col.strip() for col in df_coomproriente.columns]\n",
    "\n",
    "# Validar columnas necesarias\n",
    "if 'Producto' not in df_coomproriente.columns or 'Precio' not in df_coomproriente.columns or 'Cantidad' not in df_coomproriente.columns:\n",
    "    raise ValueError(\"Faltan columnas requeridas: 'Producto', 'Precio' o 'Cantidad'.\")\n",
    "\n",
    "# Reemplazar \"$\" y \".\" en precio y convertir a float\n",
    "df_coomproriente['Precio'] = df_coomproriente['Precio'].replace('[\\$\\.,]', '', regex=True)\n",
    "df_coomproriente['Precio'] = pd.to_numeric(df_coomproriente['Precio'], errors='coerce')\n",
    "\n",
    "df_coomproriente.describe()\n"
   ]
  },
  {
   "cell_type": "code",
   "execution_count": 5,
   "id": "e628dd17",
   "metadata": {},
   "outputs": [],
   "source": [
    "# Cambiar \"50\" a \"1\" en la columna cantidad para Aguacate Papelillo\n",
    "def ajustar_cantidad(cantidad, producto):\n",
    "    if pd.isna(cantidad):\n",
    "        return cantidad\n",
    "    if \"aguacate papelillo\" in producto.lower():\n",
    "        return re.sub(r'\\b50\\b', '1', cantidad)\n",
    "    return cantidad\n",
    "\n",
    "df_coomproriente['Cantidad'] = df_coomproriente.apply(lambda row: ajustar_cantidad(row['Cantidad'], row['Producto']), axis=1)\n",
    "\n",
    "# Función para extraer el número de Kg\n",
    "def extraer_kg(cantidad):\n",
    "    if pd.isna(cantidad):\n",
    "        return None\n",
    "    match = re.search(r'(\\d+(\\.\\d+)?)\\s*(kg|kilogramo)', cantidad, re.IGNORECASE)\n",
    "    return float(match.group(1)) if match else None\n",
    "\n",
    "# Aplicar extracción y eliminar filas sin Kg\n",
    "df_coomproriente['Kg'] = df_coomproriente['Cantidad'].apply(extraer_kg)\n",
    "df_coomproriente = df_coomproriente[df_coomproriente['Kg'].notna()]\n",
    "\n",
    "# Calcular precio por Kg\n",
    "df_coomproriente['Precio_por_kg'] = df_coomproriente['Precio'] / df_coomproriente['Kg']\n",
    "#Crear una columna llamada Mercado y asignar el valor \"Sogamoso\" en todo el DataFrame\n",
    "df_coomproriente['Mercado'] = 'Sogamoso'\n",
    "df_coomproriente.to_excel(\"../data/Precios_Coomproriente_limpio.xlsx\", index=False)  \n"
   ]
  }
 ],
 "metadata": {
  "kernelspec": {
   "display_name": "Python 3",
   "language": "python",
   "name": "python3"
  },
  "language_info": {
   "codemirror_mode": {
    "name": "ipython",
    "version": 3
   },
   "file_extension": ".py",
   "mimetype": "text/x-python",
   "name": "python",
   "nbconvert_exporter": "python",
   "pygments_lexer": "ipython3",
   "version": "3.11.9"
  }
 },
 "nbformat": 4,
 "nbformat_minor": 5
}
