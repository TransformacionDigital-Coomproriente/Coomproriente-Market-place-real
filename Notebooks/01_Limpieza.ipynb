{
 "cells": [
  {
   "cell_type": "code",
   "execution_count": 15,
   "id": "a4167672",
   "metadata": {},
   "outputs": [],
   "source": [
    "import pandas as pd\n",
    "\n",
    "# Cargar el archivo Excel \n",
    "df = pd.read_excel(\"../Data/datos_agronet.xlsx\")\n",
    "\n",
    "# Mapeo de nombres de mercado a categorías válidas\n",
    "mercados_validos = {\n",
    "    'Bogotá, D.C., Corabastos': 'Bogotá',\n",
    "    'Corabastos': 'Bogotá',\n",
    "    'Tunja': 'Tunja',\n",
    "    'Tunja (Boyacá)': 'Tunja',\n",
    "    'Duitama': 'Duitama',\n",
    "    'Duitama (Boyacá)': 'Duitama',\n",
    "    'Sogamoso (Boyacá)': 'Sogamoso'\n",
    "}\n",
    "\n",
    "# Aplicar mapeo\n",
    "df['Mercado'] = df['Mercado'].map(mercados_validos)\n",
    "\n"
   ]
  },
  {
   "cell_type": "code",
   "execution_count": 16,
   "id": "76a13c53",
   "metadata": {},
   "outputs": [
    {
     "name": "stdout",
     "output_type": "stream",
     "text": [
      "<class 'pandas.core.frame.DataFrame'>\n",
      "RangeIndex: 163931 entries, 0 to 163930\n",
      "Data columns (total 4 columns):\n",
      " #   Column       Non-Null Count   Dtype  \n",
      "---  ------       --------------   -----  \n",
      " 0   Mercado      163931 non-null  object \n",
      " 1   Producto     163931 non-null  object \n",
      " 2   Fecha        163931 non-null  object \n",
      " 3   Precio $/KG  163931 non-null  float64\n",
      "dtypes: float64(1), object(3)\n",
      "memory usage: 5.0+ MB\n"
     ]
    }
   ],
   "source": [
    "df.info()"
   ]
  },
  {
   "cell_type": "code",
   "execution_count": 17,
   "id": "5d3d84d3",
   "metadata": {},
   "outputs": [
    {
     "data": {
      "text/plain": [
       "array(['Bogotá', 'Tunja', 'Sogamoso', 'Duitama'], dtype=object)"
      ]
     },
     "execution_count": 17,
     "metadata": {},
     "output_type": "execute_result"
    }
   ],
   "source": [
    "df.Mercado.unique()"
   ]
  },
  {
   "cell_type": "code",
   "execution_count": 18,
   "id": "9c127065",
   "metadata": {},
   "outputs": [
    {
     "name": "stderr",
     "output_type": "stream",
     "text": [
      "C:\\Users\\dairo\\AppData\\Local\\Temp\\ipykernel_23852\\3974494666.py:25: UserWarning: Could not infer format, so each element will be parsed individually, falling back to `dateutil`. To ensure parsing is consistent and as-expected, please specify a format.\n",
      "  df['Fecha_dt'] = pd.to_datetime(df['Fecha_limpia'], errors='coerce')\n"
     ]
    }
   ],
   "source": [
    "import pandas as pd\n",
    "\n",
    "# Eliminar filas con mercados no deseados\n",
    "df = df.dropna(subset=['Mercado'])\n",
    "\n",
    "# Normalizar y convertir fechas\n",
    "df['Fecha_limpia'] = df['Fecha'].str.split(',').str[-1].str.strip()\n",
    "\n",
    "# Diccionario para traducir meses de español a inglés\n",
    "meses_es_en = {\n",
    "    'enero': 'January', 'febrero': 'February', 'marzo': 'March', 'abril': 'April',\n",
    "    'mayo': 'May', 'junio': 'June', 'julio': 'July', 'agosto': 'August',\n",
    "    'septiembre': 'September', 'octubre': 'October', 'noviembre': 'November', 'diciembre': 'December'\n",
    "}\n",
    "\n",
    "# Convertir a minúsculas y traducir meses\n",
    "df['Fecha_limpia'] = df['Fecha_limpia'].str.lower()\n",
    "for esp, eng in meses_es_en.items():\n",
    "    df['Fecha_limpia'] = df['Fecha_limpia'].str.replace(esp, eng, regex=False)\n",
    "\n",
    "# Eliminar \" de \" que impide la conversión correcta\n",
    "df['Fecha_limpia'] = df['Fecha_limpia'].str.replace(\" de \", \" \", regex=False)\n",
    "\n",
    "# Convertir a datetime\n",
    "df['Fecha_dt'] = pd.to_datetime(df['Fecha_limpia'], errors='coerce')"
   ]
  },
  {
   "cell_type": "code",
   "execution_count": 20,
   "id": "1d4c04cb",
   "metadata": {},
   "outputs": [
    {
     "data": {
      "text/html": [
       "<div>\n",
       "<style scoped>\n",
       "    .dataframe tbody tr th:only-of-type {\n",
       "        vertical-align: middle;\n",
       "    }\n",
       "\n",
       "    .dataframe tbody tr th {\n",
       "        vertical-align: top;\n",
       "    }\n",
       "\n",
       "    .dataframe thead th {\n",
       "        text-align: right;\n",
       "    }\n",
       "</style>\n",
       "<table border=\"1\" class=\"dataframe\">\n",
       "  <thead>\n",
       "    <tr style=\"text-align: right;\">\n",
       "      <th></th>\n",
       "      <th>Mercado</th>\n",
       "      <th>Producto</th>\n",
       "      <th>Fecha</th>\n",
       "      <th>Precio $/KG</th>\n",
       "      <th>Fecha_limpia</th>\n",
       "      <th>Fecha_dt</th>\n",
       "    </tr>\n",
       "  </thead>\n",
       "  <tbody>\n",
       "    <tr>\n",
       "      <th>0</th>\n",
       "      <td>Bogotá</td>\n",
       "      <td>Aguacate papelillo</td>\n",
       "      <td>Viernes, Julio 15 de 2005</td>\n",
       "      <td>2200.0</td>\n",
       "      <td>July 15 2005</td>\n",
       "      <td>2005-07-15</td>\n",
       "    </tr>\n",
       "    <tr>\n",
       "      <th>1</th>\n",
       "      <td>Bogotá</td>\n",
       "      <td>Aguacate papelillo</td>\n",
       "      <td>Viernes, Julio 22 de 2005</td>\n",
       "      <td>2340.0</td>\n",
       "      <td>July 22 2005</td>\n",
       "      <td>2005-07-22</td>\n",
       "    </tr>\n",
       "    <tr>\n",
       "      <th>2</th>\n",
       "      <td>Bogotá</td>\n",
       "      <td>Aguacate papelillo</td>\n",
       "      <td>Viernes, Julio 29 de 2005</td>\n",
       "      <td>2355.0</td>\n",
       "      <td>July 29 2005</td>\n",
       "      <td>2005-07-29</td>\n",
       "    </tr>\n",
       "    <tr>\n",
       "      <th>3</th>\n",
       "      <td>Bogotá</td>\n",
       "      <td>Aguacate papelillo</td>\n",
       "      <td>Viernes, Agosto 5 de 2005</td>\n",
       "      <td>2410.0</td>\n",
       "      <td>August 5 2005</td>\n",
       "      <td>2005-08-05</td>\n",
       "    </tr>\n",
       "    <tr>\n",
       "      <th>4</th>\n",
       "      <td>Bogotá</td>\n",
       "      <td>Aguacate papelillo</td>\n",
       "      <td>Viernes, Agosto 12 de 2005</td>\n",
       "      <td>2410.0</td>\n",
       "      <td>August 12 2005</td>\n",
       "      <td>2005-08-12</td>\n",
       "    </tr>\n",
       "  </tbody>\n",
       "</table>\n",
       "</div>"
      ],
      "text/plain": [
       "  Mercado             Producto                       Fecha  Precio $/KG  \\\n",
       "0  Bogotá  Aguacate papelillo    Viernes, Julio 15 de 2005       2200.0   \n",
       "1  Bogotá  Aguacate papelillo    Viernes, Julio 22 de 2005       2340.0   \n",
       "2  Bogotá  Aguacate papelillo    Viernes, Julio 29 de 2005       2355.0   \n",
       "3  Bogotá  Aguacate papelillo    Viernes, Agosto 5 de 2005       2410.0   \n",
       "4  Bogotá  Aguacate papelillo   Viernes, Agosto 12 de 2005       2410.0   \n",
       "\n",
       "     Fecha_limpia   Fecha_dt  \n",
       "0    July 15 2005 2005-07-15  \n",
       "1    July 22 2005 2005-07-22  \n",
       "2    July 29 2005 2005-07-29  \n",
       "3   August 5 2005 2005-08-05  \n",
       "4  August 12 2005 2005-08-12  "
      ]
     },
     "execution_count": 20,
     "metadata": {},
     "output_type": "execute_result"
    }
   ],
   "source": [
    "df.head()"
   ]
  },
  {
   "cell_type": "code",
   "execution_count": 19,
   "id": "bcedaaa0",
   "metadata": {},
   "outputs": [
    {
     "name": "stdout",
     "output_type": "stream",
     "text": [
      "<class 'pandas.core.frame.DataFrame'>\n",
      "RangeIndex: 163931 entries, 0 to 163930\n",
      "Data columns (total 6 columns):\n",
      " #   Column        Non-Null Count   Dtype         \n",
      "---  ------        --------------   -----         \n",
      " 0   Mercado       163931 non-null  object        \n",
      " 1   Producto      163931 non-null  object        \n",
      " 2   Fecha         163931 non-null  object        \n",
      " 3   Precio $/KG   163931 non-null  float64       \n",
      " 4   Fecha_limpia  163931 non-null  object        \n",
      " 5   Fecha_dt      163931 non-null  datetime64[ns]\n",
      "dtypes: datetime64[ns](1), float64(1), object(4)\n",
      "memory usage: 7.5+ MB\n"
     ]
    }
   ],
   "source": [
    "df.info()"
   ]
  },
  {
   "cell_type": "code",
   "execution_count": 21,
   "id": "efceb202",
   "metadata": {},
   "outputs": [
    {
     "name": "stdout",
     "output_type": "stream",
     "text": [
      "Número de valores nulos (NaN o NaT) en la columna Fecha_dt: 0\n"
     ]
    }
   ],
   "source": [
    "# Contar cuántos valores nulos (NaN o NaT) hay en la columna Fecha_dt\n",
    "num_na = df['Fecha_dt'].isna().sum()\n",
    "print(f\"Número de valores nulos (NaN o NaT) en la columna Fecha_dt: {num_na}\")"
   ]
  },
  {
   "cell_type": "code",
   "execution_count": 22,
   "id": "b96c4af1",
   "metadata": {},
   "outputs": [
    {
     "name": "stdout",
     "output_type": "stream",
     "text": [
      "         Mercado             Producto                       Fecha  \\\n",
      "0         Bogotá  Aguacate papelillo    Viernes, Julio 15 de 2005   \n",
      "1         Bogotá  Aguacate papelillo    Viernes, Julio 22 de 2005   \n",
      "2         Bogotá  Aguacate papelillo    Viernes, Julio 29 de 2005   \n",
      "3         Bogotá  Aguacate papelillo    Viernes, Agosto 5 de 2005   \n",
      "4         Bogotá  Aguacate papelillo   Viernes, Agosto 12 de 2005   \n",
      "...          ...                  ...                         ...   \n",
      "159428  Sogamoso           Zanahoria      Sabado, Mayo 10 de 2025   \n",
      "159429  Sogamoso           Zanahoria      Sabado, Mayo 17 de 2025   \n",
      "159430   Duitama           Zanahoria      Sabado, Mayo 17 de 2025   \n",
      "159431    Bogotá           Zanahoria      Sabado, Mayo 17 de 2025   \n",
      "159432     Tunja           Zanahoria      Sabado, Mayo 17 de 2025   \n",
      "\n",
      "        Precio $/KG    Fecha_limpia   Fecha_dt  \n",
      "0            2200.0    July 15 2005 2005-07-15  \n",
      "1            2340.0    July 22 2005 2005-07-22  \n",
      "2            2355.0    July 29 2005 2005-07-29  \n",
      "3            2410.0   August 5 2005 2005-08-05  \n",
      "4            2410.0  August 12 2005 2005-08-12  \n",
      "...             ...             ...        ...  \n",
      "159428       1650.0     May 10 2025 2025-05-10  \n",
      "159429       1713.0     May 17 2025 2025-05-17  \n",
      "159430       1600.0     May 17 2025 2025-05-17  \n",
      "159431       2047.0     May 17 2025 2025-05-17  \n",
      "159432       1684.0     May 17 2025 2025-05-17  \n",
      "\n",
      "[159433 rows x 6 columns]\n"
     ]
    }
   ],
   "source": [
    "# Eliminar duplicados\n",
    "df = df.drop_duplicates()\n",
    "\n",
    "# Verificar y convertir columna de precio\n",
    "# Quitar caracteres no numéricos y convertir a float (por si hay errores de entrada)\n",
    "df['Precio $/KG'] = pd.to_numeric(df['Precio $/KG'], errors='coerce')\n",
    "\n",
    "# Eliminar filas con precios nulos o inconsistentes\n",
    "df = df.dropna(subset=['Precio $/KG'])\n",
    "\n",
    "# Resetear índice y mostrar dataset limpio\n",
    "df = df.reset_index(drop=True)\n",
    "print(df)\n",
    "\n",
    "# Guardar el dataframe limpio (opcional)\n",
    "df.to_excel(\"../Data/datos_agronet_limpio.xlsx\", index=False)  \n"
   ]
  },
  {
   "cell_type": "code",
   "execution_count": 23,
   "id": "28209e67",
   "metadata": {},
   "outputs": [
    {
     "name": "stdout",
     "output_type": "stream",
     "text": [
      "<class 'pandas.core.frame.DataFrame'>\n",
      "RangeIndex: 159433 entries, 0 to 159432\n",
      "Data columns (total 6 columns):\n",
      " #   Column        Non-Null Count   Dtype         \n",
      "---  ------        --------------   -----         \n",
      " 0   Mercado       159433 non-null  object        \n",
      " 1   Producto      159433 non-null  object        \n",
      " 2   Fecha         159433 non-null  object        \n",
      " 3   Precio $/KG   159433 non-null  float64       \n",
      " 4   Fecha_limpia  159433 non-null  object        \n",
      " 5   Fecha_dt      159433 non-null  datetime64[ns]\n",
      "dtypes: datetime64[ns](1), float64(1), object(4)\n",
      "memory usage: 7.3+ MB\n"
     ]
    }
   ],
   "source": [
    "df.info()"
   ]
  },
  {
   "cell_type": "markdown",
   "id": "d36e4f29",
   "metadata": {},
   "source": [
    "## Limpieza de datos para el dataset Precios Coomproriente"
   ]
  },
  {
   "cell_type": "code",
   "execution_count": 4,
   "id": "7437857a",
   "metadata": {},
   "outputs": [
    {
     "data": {
      "text/html": [
       "<div>\n",
       "<style scoped>\n",
       "    .dataframe tbody tr th:only-of-type {\n",
       "        vertical-align: middle;\n",
       "    }\n",
       "\n",
       "    .dataframe tbody tr th {\n",
       "        vertical-align: top;\n",
       "    }\n",
       "\n",
       "    .dataframe thead th {\n",
       "        text-align: right;\n",
       "    }\n",
       "</style>\n",
       "<table border=\"1\" class=\"dataframe\">\n",
       "  <thead>\n",
       "    <tr style=\"text-align: right;\">\n",
       "      <th></th>\n",
       "      <th>Precio</th>\n",
       "      <th>Fecha</th>\n",
       "    </tr>\n",
       "  </thead>\n",
       "  <tbody>\n",
       "    <tr>\n",
       "      <th>count</th>\n",
       "      <td>1422.000000</td>\n",
       "      <td>1440</td>\n",
       "    </tr>\n",
       "    <tr>\n",
       "      <th>mean</th>\n",
       "      <td>64920.323488</td>\n",
       "      <td>2025-05-01 23:54:00</td>\n",
       "    </tr>\n",
       "    <tr>\n",
       "      <th>min</th>\n",
       "      <td>1400.000000</td>\n",
       "      <td>2025-03-27 00:00:00</td>\n",
       "    </tr>\n",
       "    <tr>\n",
       "      <th>25%</th>\n",
       "      <td>18000.000000</td>\n",
       "      <td>2025-04-14 00:00:00</td>\n",
       "    </tr>\n",
       "    <tr>\n",
       "      <th>50%</th>\n",
       "      <td>50000.000000</td>\n",
       "      <td>2025-04-30 00:00:00</td>\n",
       "    </tr>\n",
       "    <tr>\n",
       "      <th>75%</th>\n",
       "      <td>90000.000000</td>\n",
       "      <td>2025-05-15 00:00:00</td>\n",
       "    </tr>\n",
       "    <tr>\n",
       "      <th>max</th>\n",
       "      <td>402000.000000</td>\n",
       "      <td>2025-06-05 00:00:00</td>\n",
       "    </tr>\n",
       "    <tr>\n",
       "      <th>std</th>\n",
       "      <td>59981.484022</td>\n",
       "      <td>NaN</td>\n",
       "    </tr>\n",
       "  </tbody>\n",
       "</table>\n",
       "</div>"
      ],
      "text/plain": [
       "              Precio                Fecha\n",
       "count    1422.000000                 1440\n",
       "mean    64920.323488  2025-05-01 23:54:00\n",
       "min      1400.000000  2025-03-27 00:00:00\n",
       "25%     18000.000000  2025-04-14 00:00:00\n",
       "50%     50000.000000  2025-04-30 00:00:00\n",
       "75%     90000.000000  2025-05-15 00:00:00\n",
       "max    402000.000000  2025-06-05 00:00:00\n",
       "std     59981.484022                  NaN"
      ]
     },
     "execution_count": 4,
     "metadata": {},
     "output_type": "execute_result"
    }
   ],
   "source": [
    "import pandas as pd\n",
    "import re\n",
    "\n",
    "# Cargar el archivo Excel\n",
    "df_coomproriente = pd.read_excel(\"../data/Precios_Coomproriente_05_06_25.xlsx\")\n",
    "\n",
    "# Normalizar nombres de columnas\n",
    "df_coomproriente.columns = [col.strip() for col in df_coomproriente.columns]\n",
    "\n",
    "# Validar columnas necesarias\n",
    "if 'Producto' not in df_coomproriente.columns or 'Precio' not in df_coomproriente.columns or 'Cantidad' not in df_coomproriente.columns:\n",
    "    raise ValueError(\"Faltan columnas requeridas: 'Producto', 'Precio' o 'Cantidad'.\")\n",
    "\n",
    "# Reemplazar \"$\" y \".\" en precio y convertir a float\n",
    "df_coomproriente['Precio'] = df_coomproriente['Precio'].replace('[\\$\\.,]', '', regex=True)\n",
    "df_coomproriente['Precio'] = pd.to_numeric(df_coomproriente['Precio'], errors='coerce')\n",
    "\n",
    "df_coomproriente.describe()\n"
   ]
  },
  {
   "cell_type": "code",
   "execution_count": 5,
   "id": "e628dd17",
   "metadata": {},
   "outputs": [],
   "source": [
    "# Cambiar \"50\" a \"1\" en la columna cantidad para Aguacate Papelillo\n",
    "def ajustar_cantidad(cantidad, producto):\n",
    "    if pd.isna(cantidad):\n",
    "        return cantidad\n",
    "    if \"aguacate papelillo\" in producto.lower():\n",
    "        return re.sub(r'\\b50\\b', '1', cantidad)\n",
    "    return cantidad\n",
    "\n",
    "df_coomproriente['Cantidad'] = df_coomproriente.apply(lambda row: ajustar_cantidad(row['Cantidad'], row['Producto']), axis=1)\n",
    "\n",
    "# Función para extraer el número de Kg\n",
    "def extraer_kg(cantidad):\n",
    "    if pd.isna(cantidad):\n",
    "        return None\n",
    "    match = re.search(r'(\\d+(\\.\\d+)?)\\s*(kg|kilogramo)', cantidad, re.IGNORECASE)\n",
    "    return float(match.group(1)) if match else None\n",
    "\n",
    "# Aplicar extracción y eliminar filas sin Kg\n",
    "df_coomproriente['Kg'] = df_coomproriente['Cantidad'].apply(extraer_kg)\n",
    "df_coomproriente = df_coomproriente[df_coomproriente['Kg'].notna()]\n",
    "\n",
    "# Calcular precio por Kg\n",
    "df_coomproriente['Precio_por_kg'] = df_coomproriente['Precio'] / df_coomproriente['Kg']\n",
    "#Crear una columna llamada Mercado y asignar el valor \"Sogamoso\" en todo el DataFrame\n",
    "df_coomproriente['Mercado'] = 'Sogamoso'\n",
    "df_coomproriente.to_excel(\"../data/Precios_Coomproriente_limpio.xlsx\", index=False)  \n"
   ]
  }
 ],
 "metadata": {
  "kernelspec": {
   "display_name": "Python 3",
   "language": "python",
   "name": "python3"
  },
  "language_info": {
   "codemirror_mode": {
    "name": "ipython",
    "version": 3
   },
   "file_extension": ".py",
   "mimetype": "text/x-python",
   "name": "python",
   "nbconvert_exporter": "python",
   "pygments_lexer": "ipython3",
   "version": "3.11.9"
  }
 },
 "nbformat": 4,
 "nbformat_minor": 5
}
